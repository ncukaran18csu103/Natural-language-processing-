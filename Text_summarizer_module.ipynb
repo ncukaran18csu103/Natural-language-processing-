{
  "nbformat": 4,
  "nbformat_minor": 0,
  "metadata": {
    "colab": {
      "name": "Text_summarizer_module.ipynb",
      "provenance": []
    },
    "kernelspec": {
      "name": "python3",
      "display_name": "Python 3"
    },
    "language_info": {
      "name": "python"
    }
  },
  "cells": [
    {
      "cell_type": "code",
      "metadata": {
        "colab": {
          "base_uri": "https://localhost:8080/",
          "height": 288
        },
        "id": "zCdowIw6hoSY",
        "outputId": "17c14735-822a-4f7f-c4be-7b67fb537155"
      },
      "source": [
        "import spcay"
      ],
      "execution_count": 1,
      "outputs": [
        {
          "output_type": "error",
          "ename": "ModuleNotFoundError",
          "evalue": "ignored",
          "traceback": [
            "\u001b[0;31m---------------------------------------------------------------------------\u001b[0m",
            "\u001b[0;31mModuleNotFoundError\u001b[0m                       Traceback (most recent call last)",
            "\u001b[0;32m<ipython-input-1-09202e2e7561>\u001b[0m in \u001b[0;36m<module>\u001b[0;34m()\u001b[0m\n\u001b[0;32m----> 1\u001b[0;31m \u001b[0;32mimport\u001b[0m \u001b[0mspcay\u001b[0m\u001b[0;34m\u001b[0m\u001b[0;34m\u001b[0m\u001b[0m\n\u001b[0m",
            "\u001b[0;31mModuleNotFoundError\u001b[0m: No module named 'spcay'",
            "",
            "\u001b[0;31m---------------------------------------------------------------------------\u001b[0;32m\nNOTE: If your import is failing due to a missing package, you can\nmanually install dependencies using either !pip or !apt.\n\nTo view examples of installing some common dependencies, click the\n\"Open Examples\" button below.\n\u001b[0;31m---------------------------------------------------------------------------\u001b[0m\n"
          ]
        }
      ]
    },
    {
      "cell_type": "code",
      "metadata": {
        "colab": {
          "base_uri": "https://localhost:8080/"
        },
        "id": "NeWp8msrht9r",
        "outputId": "df48db07-36c3-4be6-c20f-e8c601a7e2bf"
      },
      "source": [
        "pip install spacy"
      ],
      "execution_count": 2,
      "outputs": [
        {
          "output_type": "stream",
          "text": [
            "Requirement already satisfied: spacy in /usr/local/lib/python3.7/dist-packages (2.2.4)\n",
            "Requirement already satisfied: catalogue<1.1.0,>=0.0.7 in /usr/local/lib/python3.7/dist-packages (from spacy) (1.0.0)\n",
            "Requirement already satisfied: murmurhash<1.1.0,>=0.28.0 in /usr/local/lib/python3.7/dist-packages (from spacy) (1.0.5)\n",
            "Requirement already satisfied: numpy>=1.15.0 in /usr/local/lib/python3.7/dist-packages (from spacy) (1.19.5)\n",
            "Requirement already satisfied: srsly<1.1.0,>=1.0.2 in /usr/local/lib/python3.7/dist-packages (from spacy) (1.0.5)\n",
            "Requirement already satisfied: requests<3.0.0,>=2.13.0 in /usr/local/lib/python3.7/dist-packages (from spacy) (2.23.0)\n",
            "Requirement already satisfied: blis<0.5.0,>=0.4.0 in /usr/local/lib/python3.7/dist-packages (from spacy) (0.4.1)\n",
            "Requirement already satisfied: cymem<2.1.0,>=2.0.2 in /usr/local/lib/python3.7/dist-packages (from spacy) (2.0.5)\n",
            "Requirement already satisfied: wasabi<1.1.0,>=0.4.0 in /usr/local/lib/python3.7/dist-packages (from spacy) (0.8.2)\n",
            "Requirement already satisfied: thinc==7.4.0 in /usr/local/lib/python3.7/dist-packages (from spacy) (7.4.0)\n",
            "Requirement already satisfied: tqdm<5.0.0,>=4.38.0 in /usr/local/lib/python3.7/dist-packages (from spacy) (4.41.1)\n",
            "Requirement already satisfied: preshed<3.1.0,>=3.0.2 in /usr/local/lib/python3.7/dist-packages (from spacy) (3.0.5)\n",
            "Requirement already satisfied: plac<1.2.0,>=0.9.6 in /usr/local/lib/python3.7/dist-packages (from spacy) (1.1.3)\n",
            "Requirement already satisfied: setuptools in /usr/local/lib/python3.7/dist-packages (from spacy) (54.2.0)\n",
            "Requirement already satisfied: importlib-metadata>=0.20; python_version < \"3.8\" in /usr/local/lib/python3.7/dist-packages (from catalogue<1.1.0,>=0.0.7->spacy) (3.8.1)\n",
            "Requirement already satisfied: chardet<4,>=3.0.2 in /usr/local/lib/python3.7/dist-packages (from requests<3.0.0,>=2.13.0->spacy) (3.0.4)\n",
            "Requirement already satisfied: idna<3,>=2.5 in /usr/local/lib/python3.7/dist-packages (from requests<3.0.0,>=2.13.0->spacy) (2.10)\n",
            "Requirement already satisfied: urllib3!=1.25.0,!=1.25.1,<1.26,>=1.21.1 in /usr/local/lib/python3.7/dist-packages (from requests<3.0.0,>=2.13.0->spacy) (1.24.3)\n",
            "Requirement already satisfied: certifi>=2017.4.17 in /usr/local/lib/python3.7/dist-packages (from requests<3.0.0,>=2.13.0->spacy) (2020.12.5)\n",
            "Requirement already satisfied: zipp>=0.5 in /usr/local/lib/python3.7/dist-packages (from importlib-metadata>=0.20; python_version < \"3.8\"->catalogue<1.1.0,>=0.0.7->spacy) (3.4.1)\n",
            "Requirement already satisfied: typing-extensions>=3.6.4; python_version < \"3.8\" in /usr/local/lib/python3.7/dist-packages (from importlib-metadata>=0.20; python_version < \"3.8\"->catalogue<1.1.0,>=0.0.7->spacy) (3.7.4.3)\n"
          ],
          "name": "stdout"
        }
      ]
    },
    {
      "cell_type": "code",
      "metadata": {
        "id": "3MQlnqKGh1Fn"
      },
      "source": [
        "import spacy\n",
        "from spacy.lang.en.stop_words import STOP_WORDS\n"
      ],
      "execution_count": 5,
      "outputs": []
    },
    {
      "cell_type": "code",
      "metadata": {
        "id": "QIjzgfPch3qx"
      },
      "source": [
        "text=\"This article is part of a series of explainers on vaccine development and distribution. Learn more about vaccines – from how they work and how they’re made to ensuring safety and equitable access – in WHO’s Vaccines Explained series.All viruses – including SARS-CoV-2, the virus that causes COVID-19 – evolve over time. When a virus replicates or makes copies of itself, it sometimes changes a little bit, which is normal for a virus. These changes are called “mutations”. A virus with one or more new mutations is referred to as a “variant” of the original virus.\""
      ],
      "execution_count": 48,
      "outputs": []
    },
    {
      "cell_type": "code",
      "metadata": {
        "id": "YSlaDckuiEFl"
      },
      "source": [
        "import spacy\n",
        "from spacy.lang.en.stop_words import STOP_WORDS\n",
        "from string import punctuation\n"
      ],
      "execution_count": 49,
      "outputs": []
    },
    {
      "cell_type": "code",
      "metadata": {
        "id": "2CKrtgDHiHql"
      },
      "source": [
        "stopwords = list(STOP_WORDS)\n"
      ],
      "execution_count": 50,
      "outputs": []
    },
    {
      "cell_type": "code",
      "metadata": {
        "id": "XuiqFNZKiKbr"
      },
      "source": [
        "nlp = spacy.load('en_core_web_sm')\n"
      ],
      "execution_count": 51,
      "outputs": []
    },
    {
      "cell_type": "code",
      "metadata": {
        "id": "RGQSnQwsiRDJ"
      },
      "source": [
        "doc = nlp(text)\n"
      ],
      "execution_count": 52,
      "outputs": []
    },
    {
      "cell_type": "code",
      "metadata": {
        "colab": {
          "base_uri": "https://localhost:8080/"
        },
        "id": "Us2hHLopiSq3",
        "outputId": "563334fb-cc61-43f6-8ad5-8906cb0b4978"
      },
      "source": [
        "tokens = [token.text for token in doc]\n",
        "print(tokens)\n"
      ],
      "execution_count": 53,
      "outputs": [
        {
          "output_type": "stream",
          "text": [
            "['This', 'article', 'is', 'part', 'of', 'a', 'series', 'of', 'explainers', 'on', 'vaccine', 'development', 'and', 'distribution', '.', 'Learn', 'more', 'about', 'vaccines', '–', 'from', 'how', 'they', 'work', 'and', 'how', 'they', '’re', 'made', 'to', 'ensuring', 'safety', 'and', 'equitable', 'access', '–', 'in', 'WHO', '’s', 'Vaccines', 'Explained', 'series', '.', 'All', 'viruses', '–', 'including', 'SARS', '-', 'CoV-2', ',', 'the', 'virus', 'that', 'causes', 'COVID-19', '–', 'evolve', 'over', 'time', '.', 'When', 'a', 'virus', 'replicates', 'or', 'makes', 'copies', 'of', 'itself', ',', 'it', 'sometimes', 'changes', 'a', 'little', 'bit', ',', 'which', 'is', 'normal', 'for', 'a', 'virus', '.', 'These', 'changes', 'are', 'called', '“', 'mutations', '”', '.', 'A', 'virus', 'with', 'one', 'or', 'more', 'new', 'mutations', 'is', 'referred', 'to', 'as', 'a', '“', 'variant', '”', 'of', 'the', 'original', 'virus', '.']\n"
          ],
          "name": "stdout"
        }
      ]
    },
    {
      "cell_type": "code",
      "metadata": {
        "colab": {
          "base_uri": "https://localhost:8080/",
          "height": 35
        },
        "id": "UdGZejyaiUh6",
        "outputId": "219875bb-71d7-44fb-e7fe-34b6756a4d3a"
      },
      "source": [
        "punctuation = punctuation + '\\n'\n",
        "punctuation\n"
      ],
      "execution_count": 54,
      "outputs": [
        {
          "output_type": "execute_result",
          "data": {
            "application/vnd.google.colaboratory.intrinsic+json": {
              "type": "string"
            },
            "text/plain": [
              "'!\"#$%&\\'()*+,-./:;<=>?@[\\\\]^_`{|}~\\n'"
            ]
          },
          "metadata": {
            "tags": []
          },
          "execution_count": 54
        }
      ]
    },
    {
      "cell_type": "code",
      "metadata": {
        "colab": {
          "base_uri": "https://localhost:8080/"
        },
        "id": "IAKVWOW5iWa_",
        "outputId": "26e6f065-425f-472f-9b72-e04f65eecac9"
      },
      "source": [
        "word_frequencies = {}\n",
        "for word in doc:\n",
        "    if word.text.lower() not in stopwords:\n",
        "        if word.text.lower() not in punctuation:\n",
        "            if word.text not in word_frequencies.keys():\n",
        "                word_frequencies[word.text] = 1\n",
        "            else:\n",
        "                word_frequencies[word.text] += 1\n",
        "                \n",
        "print(word_frequencies)\n"
      ],
      "execution_count": 55,
      "outputs": [
        {
          "output_type": "stream",
          "text": [
            "{'article': 1, 'series': 2, 'explainers': 1, 'vaccine': 1, 'development': 1, 'distribution': 1, 'Learn': 1, 'vaccines': 1, '–': 4, 'work': 1, 'ensuring': 1, 'safety': 1, 'equitable': 1, 'access': 1, 'Vaccines': 1, 'Explained': 1, 'viruses': 1, 'including': 1, 'SARS': 1, 'CoV-2': 1, 'virus': 5, 'causes': 1, 'COVID-19': 1, 'evolve': 1, 'time': 1, 'replicates': 1, 'makes': 1, 'copies': 1, 'changes': 2, 'little': 1, 'bit': 1, 'normal': 1, 'called': 1, '“': 2, 'mutations': 2, '”': 2, 'new': 1, 'referred': 1, 'variant': 1, 'original': 1}\n"
          ],
          "name": "stdout"
        }
      ]
    },
    {
      "cell_type": "code",
      "metadata": {
        "colab": {
          "base_uri": "https://localhost:8080/"
        },
        "id": "R-jIPRmCiYoz",
        "outputId": "c7a90c0b-fdc7-44e4-864c-b69dadf23b63"
      },
      "source": [
        "max_frequency = max(word_frequencies.values())\n",
        "max_frequency\n"
      ],
      "execution_count": 56,
      "outputs": [
        {
          "output_type": "execute_result",
          "data": {
            "text/plain": [
              "5"
            ]
          },
          "metadata": {
            "tags": []
          },
          "execution_count": 56
        }
      ]
    },
    {
      "cell_type": "code",
      "metadata": {
        "colab": {
          "base_uri": "https://localhost:8080/"
        },
        "id": "JnrWv3jTiaq5",
        "outputId": "d9105ac0-633e-4388-f7bc-1ee9d2da27bd"
      },
      "source": [
        "for word in word_frequencies.keys():\n",
        "    word_frequencies[word] = word_frequencies[word]/max_frequency\n",
        "\n",
        "print(word_frequencies)\n"
      ],
      "execution_count": 57,
      "outputs": [
        {
          "output_type": "stream",
          "text": [
            "{'article': 0.2, 'series': 0.4, 'explainers': 0.2, 'vaccine': 0.2, 'development': 0.2, 'distribution': 0.2, 'Learn': 0.2, 'vaccines': 0.2, '–': 0.8, 'work': 0.2, 'ensuring': 0.2, 'safety': 0.2, 'equitable': 0.2, 'access': 0.2, 'Vaccines': 0.2, 'Explained': 0.2, 'viruses': 0.2, 'including': 0.2, 'SARS': 0.2, 'CoV-2': 0.2, 'virus': 1.0, 'causes': 0.2, 'COVID-19': 0.2, 'evolve': 0.2, 'time': 0.2, 'replicates': 0.2, 'makes': 0.2, 'copies': 0.2, 'changes': 0.4, 'little': 0.2, 'bit': 0.2, 'normal': 0.2, 'called': 0.2, '“': 0.4, 'mutations': 0.4, '”': 0.4, 'new': 0.2, 'referred': 0.2, 'variant': 0.2, 'original': 0.2}\n"
          ],
          "name": "stdout"
        }
      ]
    },
    {
      "cell_type": "code",
      "metadata": {
        "colab": {
          "base_uri": "https://localhost:8080/"
        },
        "id": "bopzZjz0icrs",
        "outputId": "614b9417-d607-45d8-dfb1-2a76c1feb919"
      },
      "source": [
        "sentence_tokens = [sent for sent in doc.sents]\n",
        "print(sentence_tokens)\n"
      ],
      "execution_count": 58,
      "outputs": [
        {
          "output_type": "stream",
          "text": [
            "[This article is part of a series of explainers on vaccine development and distribution., Learn more about vaccines – from how they work and how they’re made to ensuring safety and equitable access – in WHO’s Vaccines Explained series., All viruses – including SARS-CoV-2, the virus that causes COVID-19 – evolve over time., When a virus replicates or makes copies of itself, it sometimes changes a little bit, which is normal for a virus., These changes are called “mutations”., A virus with one or more new mutations is referred to as a “variant” of the original virus.]\n"
          ],
          "name": "stdout"
        }
      ]
    },
    {
      "cell_type": "code",
      "metadata": {
        "colab": {
          "base_uri": "https://localhost:8080/"
        },
        "id": "7rGrs4NGijyg",
        "outputId": "67cdbd02-1b66-402c-86a1-17e70619c470"
      },
      "source": [
        "sentence_scores = {}\n",
        "for sent in sentence_tokens:\n",
        "    for word in sent:\n",
        "        if word.text.lower() in word_frequencies.keys():\n",
        "            if sent not in sentence_scores.keys():\n",
        "                sentence_scores[sent] = word_frequencies[word.text.lower()]\n",
        "            else:\n",
        "                sentence_scores[sent] += word_frequencies[word.text.lower()]\n",
        "                \n",
        "sentence_scores\n"
      ],
      "execution_count": 59,
      "outputs": [
        {
          "output_type": "execute_result",
          "data": {
            "text/plain": [
              "{This article is part of a series of explainers on vaccine development and distribution.: 1.4,\n",
              " Learn more about vaccines – from how they work and how they’re made to ensuring safety and equitable access – in WHO’s Vaccines Explained series.: 3.4,\n",
              " All viruses – including SARS-CoV-2, the virus that causes COVID-19 – evolve over time.: 3.6000000000000005,\n",
              " When a virus replicates or makes copies of itself, it sometimes changes a little bit, which is normal for a virus.: 3.6000000000000005,\n",
              " These changes are called “mutations”.: 1.7999999999999998,\n",
              " A virus with one or more new mutations is referred to as a “variant” of the original virus.: 4.0}"
            ]
          },
          "metadata": {
            "tags": []
          },
          "execution_count": 59
        }
      ]
    },
    {
      "cell_type": "code",
      "metadata": {
        "id": "36cO_9yeimUP"
      },
      "source": [
        "from heapq import nlargest\n"
      ],
      "execution_count": 60,
      "outputs": []
    },
    {
      "cell_type": "code",
      "metadata": {
        "colab": {
          "base_uri": "https://localhost:8080/"
        },
        "id": "ebDyUKTrioPQ",
        "outputId": "a51803b2-2562-4154-ac74-8d3440a8cdce"
      },
      "source": [
        "select_length = int(len(sentence_tokens)*0.3)\n",
        "select_length\n"
      ],
      "execution_count": 61,
      "outputs": [
        {
          "output_type": "execute_result",
          "data": {
            "text/plain": [
              "1"
            ]
          },
          "metadata": {
            "tags": []
          },
          "execution_count": 61
        }
      ]
    },
    {
      "cell_type": "code",
      "metadata": {
        "colab": {
          "base_uri": "https://localhost:8080/"
        },
        "id": "IuwkWMTmiqED",
        "outputId": "0a8fc8a3-62fa-461a-8fcb-721003c6223d"
      },
      "source": [
        "summary = nlargest(select_length, sentence_scores, key = sentence_scores.get)\n",
        "summary\n"
      ],
      "execution_count": 62,
      "outputs": [
        {
          "output_type": "execute_result",
          "data": {
            "text/plain": [
              "[A virus with one or more new mutations is referred to as a “variant” of the original virus.]"
            ]
          },
          "metadata": {
            "tags": []
          },
          "execution_count": 62
        }
      ]
    },
    {
      "cell_type": "code",
      "metadata": {
        "id": "ZXUKnJCFirwa"
      },
      "source": [
        "final_summary = [word.text for word in summary]\n",
        "summary = ' '.join(final_summary)\n"
      ],
      "execution_count": 63,
      "outputs": []
    },
    {
      "cell_type": "code",
      "metadata": {
        "colab": {
          "base_uri": "https://localhost:8080/"
        },
        "id": "PeMFt88Jitrd",
        "outputId": "cb8e7f20-9cc2-4dc8-92fa-fbf852ed1761"
      },
      "source": [
        "len(text)\n"
      ],
      "execution_count": 64,
      "outputs": [
        {
          "output_type": "execute_result",
          "data": {
            "text/plain": [
              "564"
            ]
          },
          "metadata": {
            "tags": []
          },
          "execution_count": 64
        }
      ]
    },
    {
      "cell_type": "code",
      "metadata": {
        "colab": {
          "base_uri": "https://localhost:8080/"
        },
        "id": "TmnmMdcRiwb7",
        "outputId": "80c372f8-f95e-4726-e421-f99dceb16487"
      },
      "source": [
        "len(summary)"
      ],
      "execution_count": 65,
      "outputs": [
        {
          "output_type": "execute_result",
          "data": {
            "text/plain": [
              "91"
            ]
          },
          "metadata": {
            "tags": []
          },
          "execution_count": 65
        }
      ]
    },
    {
      "cell_type": "code",
      "metadata": {
        "id": "-h-XTiOAixXN"
      },
      "source": [
        ""
      ],
      "execution_count": 65,
      "outputs": []
    }
  ]
}